{
 "cells": [
  {
   "cell_type": "code",
   "execution_count": 0,
   "metadata": {
    "application/vnd.databricks.v1+cell": {
     "cellMetadata": {
      "byteLimit": 2048000,
      "rowLimit": 10000
     },
     "inputWidgets": {},
     "nuid": "8a3e25e6-92d4-480b-a506-3356b1d76ac6",
     "showTitle": false,
     "tableResultSettingsMap": {},
     "title": ""
    }
   },
   "outputs": [],
   "source": [
    "import pickle\n",
    "import numpy as np  # or pandas, depending on your input format\n",
    "\n",
    "# Step 1: Load the model from the .pkl file\n",
    "with open('Model_Artifacts/lr_model_new.pkl', 'rb') as file:\n",
    "    model = pickle.load(file)\n",
    "\n",
    "# Step 2: Prepare your input data\n",
    "# Example: if your model expects 2 features\n",
    "X_new = np.array([[7.4,2.8,6.1,1.9]])  # Replace with your actual input\n",
    "\n",
    "# Step 3: Make predictions\n",
    "predictions = model.predict(X_new)\n",
    "\n",
    "# Step 4: Print or use the predictions\n",
    "print(\"Predicted output:\", predictions)"
   ]
  },
  {
   "cell_type": "code",
   "execution_count": 0,
   "metadata": {
    "application/vnd.databricks.v1+cell": {
     "cellMetadata": {
      "byteLimit": 2048000,
      "rowLimit": 10000
     },
     "inputWidgets": {},
     "nuid": "24144704-dba0-4b1f-b913-4e1f47aae63c",
     "showTitle": false,
     "tableResultSettingsMap": {},
     "title": ""
    }
   },
   "outputs": [],
   "source": []
  }
 ],
 "metadata": {
  "application/vnd.databricks.v1+notebook": {
   "computePreferences": null,
   "dashboards": [],
   "environmentMetadata": {
    "base_environment": "",
    "environment_version": "4"
   },
   "inputWidgetPreferences": null,
   "language": "python",
   "notebookMetadata": {
    "pythonIndentUnit": 2
   },
   "notebookName": "app",
   "widgets": {}
  },
  "language_info": {
   "name": "python"
  }
 },
 "nbformat": 4,
 "nbformat_minor": 0
}
